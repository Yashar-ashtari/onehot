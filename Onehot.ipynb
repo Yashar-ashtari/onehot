{
 "cells": [
  {
   "cell_type": "code",
   "execution_count": 9,
   "id": "3b0d38dc",
   "metadata": {},
   "outputs": [
    {
     "name": "stdout",
     "output_type": "stream",
     "text": [
      "    شناسه پرسشنامه پیش از تست  A1  A2  A2_Text  M1  M4  M5_1  M5_2  M5_3  M5_4\n",
      "0                       75645   3   2      NaN   4   5   1.0   2.0   3.0   NaN\n",
      "1                     5676568   2   4      5.0   4   3   1.0   2.0   3.0   4.0\n",
      "2                      456456   5   3      NaN   4  54   1.0   2.0   3.0   4.0\n",
      "3                       93859   3   2      NaN   4   3   1.0   2.0   NaN   NaN\n",
      "4                       93863   3   2      NaN   4   4   1.0   2.0   3.0   4.0\n",
      "5                       93879   4   4      7.0   4   2   1.0   2.0   3.0   NaN\n",
      "6                       93845   4   2      NaN   4   3   1.0   2.0   3.0   4.0\n",
      "7                       93911   4   2      NaN   4   5   1.0   2.0   3.0   NaN\n",
      "8                       93916   2   1      NaN   3   3   1.0   NaN   NaN   NaN\n",
      "9                       93913   4   2      NaN   3   6   1.0   2.0   3.0   4.0\n",
      "10                      94015   4   3      NaN   3   4   1.0   NaN   NaN   4.0\n",
      "11                      94031   4   4     30.0   5   2   1.0   2.0   NaN   4.0\n",
      "12                      93989   4   3      NaN   4   3   1.0   2.0   3.0   NaN\n",
      "13                      94256   4   2      NaN   5   3   NaN   2.0   3.0   4.0\n",
      "14                      93808   3   1      NaN   5   4   1.0   NaN   NaN   NaN\n",
      "15                      94440   3   2      NaN   3   2   1.0   2.0   3.0   NaN\n",
      "16                      94414   4   4      6.0   3   3   1.0   NaN   NaN   NaN\n",
      "17                      94679   4   4      8.0   5   2   1.0   2.0   3.0   NaN\n",
      "18                      94612   4   4      5.0   4   3   1.0   2.0   3.0   4.0\n",
      "19                      94692   3   2      NaN   3   4   1.0   2.0   3.0   4.0\n"
     ]
    }
   ],
   "source": [
    "import pandas as pd\n",
    "df = pd.read_excel(io='test.xlsx')\n",
    "print(df.head(20))  # print first 5 rows of the dataframe"
   ]
  },
  {
   "cell_type": "code",
   "execution_count": 7,
   "id": "27293deb",
   "metadata": {},
   "outputs": [
    {
     "data": {
      "text/plain": [
       "2.6666666666666665"
      ]
     },
     "execution_count": 7,
     "metadata": {},
     "output_type": "execute_result"
    }
   ],
   "source": [
    "df['A2'].mean()"
   ]
  },
  {
   "cell_type": "code",
   "execution_count": 8,
   "id": "ad2e5623",
   "metadata": {},
   "outputs": [
    {
     "data": {
      "text/plain": [
       "4"
      ]
     },
     "execution_count": 8,
     "metadata": {},
     "output_type": "execute_result"
    }
   ],
   "source": [
    "df['A2'].max()"
   ]
  },
  {
   "cell_type": "code",
   "execution_count": 10,
   "id": "e2fcd068",
   "metadata": {},
   "outputs": [],
   "source": [
    "X=df['A2']"
   ]
  },
  {
   "cell_type": "code",
   "execution_count": 11,
   "id": "68ddd89e",
   "metadata": {},
   "outputs": [
    {
     "name": "stdout",
     "output_type": "stream",
     "text": [
      "0     2\n",
      "1     4\n",
      "2     3\n",
      "3     2\n",
      "4     2\n",
      "5     4\n",
      "6     2\n",
      "7     2\n",
      "8     1\n",
      "9     2\n",
      "10    3\n",
      "11    4\n",
      "12    3\n",
      "13    2\n",
      "14    1\n",
      "15    2\n",
      "16    4\n",
      "17    4\n",
      "18    4\n",
      "19    2\n",
      "20    4\n",
      "21    4\n",
      "22    3\n",
      "23    3\n",
      "24    2\n",
      "25    4\n",
      "26    1\n",
      "27    1\n",
      "28    4\n",
      "29    1\n",
      "Name: A2, dtype: int64\n"
     ]
    }
   ],
   "source": [
    "print(X)"
   ]
  },
  {
   "cell_type": "code",
   "execution_count": 14,
   "id": "ec6e1b27",
   "metadata": {},
   "outputs": [],
   "source": [
    "onehot=pd.get_dummies(X)"
   ]
  },
  {
   "cell_type": "code",
   "execution_count": 15,
   "id": "cf526a27",
   "metadata": {},
   "outputs": [
    {
     "name": "stdout",
     "output_type": "stream",
     "text": [
      "    1  2  3  4\n",
      "0   0  1  0  0\n",
      "1   0  0  0  1\n",
      "2   0  0  1  0\n",
      "3   0  1  0  0\n",
      "4   0  1  0  0\n",
      "5   0  0  0  1\n",
      "6   0  1  0  0\n",
      "7   0  1  0  0\n",
      "8   1  0  0  0\n",
      "9   0  1  0  0\n",
      "10  0  0  1  0\n",
      "11  0  0  0  1\n",
      "12  0  0  1  0\n",
      "13  0  1  0  0\n",
      "14  1  0  0  0\n",
      "15  0  1  0  0\n",
      "16  0  0  0  1\n",
      "17  0  0  0  1\n",
      "18  0  0  0  1\n",
      "19  0  1  0  0\n",
      "20  0  0  0  1\n",
      "21  0  0  0  1\n",
      "22  0  0  1  0\n",
      "23  0  0  1  0\n",
      "24  0  1  0  0\n",
      "25  0  0  0  1\n",
      "26  1  0  0  0\n",
      "27  1  0  0  0\n",
      "28  0  0  0  1\n",
      "29  1  0  0  0\n"
     ]
    }
   ],
   "source": [
    "print(onehot)"
   ]
  },
  {
   "cell_type": "code",
   "execution_count": null,
   "id": "17f29ff5",
   "metadata": {},
   "outputs": [],
   "source": []
  }
 ],
 "metadata": {
  "kernelspec": {
   "display_name": "Python 3",
   "language": "python",
   "name": "python3"
  },
  "language_info": {
   "codemirror_mode": {
    "name": "ipython",
    "version": 3
   },
   "file_extension": ".py",
   "mimetype": "text/x-python",
   "name": "python",
   "nbconvert_exporter": "python",
   "pygments_lexer": "ipython3",
   "version": "3.8.8"
  }
 },
 "nbformat": 4,
 "nbformat_minor": 5
}
